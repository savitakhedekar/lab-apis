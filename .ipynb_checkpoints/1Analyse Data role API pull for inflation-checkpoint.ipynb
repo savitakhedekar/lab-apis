{
 "cells": [
  {
   "cell_type": "code",
   "execution_count": 40,
   "id": "3f2bddf0-f7e9-4986-98fb-9be5df8c229d",
   "metadata": {},
   "outputs": [
    {
     "name": "stdout",
     "output_type": "stream",
     "text": [
      "Date: 1947-01-01, Value: 21.48\n",
      "Date: 1947-02-01, Value: 21.62\n",
      "Date: 1947-03-01, Value: 22.0\n",
      "Date: 1947-04-01, Value: 22.0\n",
      "Date: 1947-05-01, Value: 21.95\n"
     ]
    }
   ],
   "source": [
    "import pandas as pd\n",
    "import requests\n",
    "from datetime import datetime\n",
    "\n",
    "\n",
    "\n",
    "# Your API key\n",
    "api_key = '8eb44ed68915337ba84ba0bf9d3cea40'\n",
    "\n",
    "# Endpoint URL for inflation data (Consumer Price Index for All Urban Consumers: All Items)\n",
    "url = f'https://api.stlouisfed.org/fred/series/observations?series_id=CPIAUCSL&api_key={api_key}&file_type=json'\n",
    "\n",
    "# Make the request\n",
    "response = requests.get(url)\n",
    "data = response.json()\n",
    "\n",
    "# Print the first few observations\n",
    "for observation in data['observations'][:5]:\n",
    "    print(f\"Date: {observation['date']}, Value: {observation['value']}\")"
   ]
  },
  {
   "cell_type": "code",
   "execution_count": 42,
   "id": "441216a8-cc03-4605-a609-fabccad0bcd0",
   "metadata": {},
   "outputs": [
    {
     "name": "stdout",
     "output_type": "stream",
     "text": [
      "Country: Africa Eastern and Southern, Date: 2023, Value: None\n",
      "Country: Africa Eastern and Southern, Date: 2022, Value: None\n",
      "Country: Africa Eastern and Southern, Date: 2021, Value: None\n",
      "Country: Africa Eastern and Southern, Date: 2020, Value: None\n",
      "Country: Africa Eastern and Southern, Date: 2019, Value: None\n",
      "Country: Africa Eastern and Southern, Date: 2018, Value: None\n",
      "Country: Africa Eastern and Southern, Date: 2017, Value: None\n",
      "Country: Africa Eastern and Southern, Date: 2016, Value: None\n",
      "Country: Africa Eastern and Southern, Date: 2015, Value: None\n",
      "Country: Africa Eastern and Southern, Date: 2014, Value: None\n",
      "Country: Africa Eastern and Southern, Date: 2013, Value: None\n",
      "Country: Africa Eastern and Southern, Date: 2012, Value: None\n",
      "Country: Africa Eastern and Southern, Date: 2011, Value: None\n",
      "Country: Africa Eastern and Southern, Date: 2010, Value: None\n",
      "Country: Africa Eastern and Southern, Date: 2009, Value: None\n",
      "Country: Africa Eastern and Southern, Date: 2008, Value: None\n",
      "Country: Africa Eastern and Southern, Date: 2007, Value: None\n",
      "Country: Africa Eastern and Southern, Date: 2006, Value: None\n",
      "Country: Africa Eastern and Southern, Date: 2005, Value: None\n",
      "Country: Africa Eastern and Southern, Date: 2004, Value: None\n",
      "Country: Africa Eastern and Southern, Date: 2003, Value: None\n",
      "Country: Africa Eastern and Southern, Date: 2002, Value: None\n",
      "Country: Africa Eastern and Southern, Date: 2001, Value: None\n",
      "Country: Africa Eastern and Southern, Date: 2000, Value: None\n",
      "Country: Africa Eastern and Southern, Date: 1999, Value: None\n",
      "Country: Africa Eastern and Southern, Date: 1998, Value: None\n",
      "Country: Africa Eastern and Southern, Date: 1997, Value: None\n",
      "Country: Africa Eastern and Southern, Date: 1996, Value: None\n",
      "Country: Africa Eastern and Southern, Date: 1995, Value: None\n",
      "Country: Africa Eastern and Southern, Date: 1994, Value: None\n"
     ]
    }
   ],
   "source": [
    "\n",
    "# Endpoint URL for inflation data (Consumer price inflation)\n",
    "url = 'http://api.worldbank.org/v2/country/all/indicator/FP.CPI.TOTL?format=json'\n",
    "\n",
    "# Make the request\n",
    "response = requests.get(url)\n",
    "data = response.json()\n",
    "\n",
    "# Print the first few observations\n",
    "for observation in data[1][:30]:\n",
    "    print(f\"Country: {observation['country']['value']}, Date: {observation['date']}, Value: {observation['value']}\")"
   ]
  },
  {
   "cell_type": "code",
   "execution_count": 43,
   "id": "96824580-3586-412e-9d58-55928e8696ec",
   "metadata": {},
   "outputs": [
    {
     "name": "stdout",
     "output_type": "stream",
     "text": [
      "                                           indicator  \\\n",
      "0  {'id': 'FP.CPI.TOTL', 'value': 'Consumer price...   \n",
      "1  {'id': 'FP.CPI.TOTL', 'value': 'Consumer price...   \n",
      "2  {'id': 'FP.CPI.TOTL', 'value': 'Consumer price...   \n",
      "3  {'id': 'FP.CPI.TOTL', 'value': 'Consumer price...   \n",
      "4  {'id': 'FP.CPI.TOTL', 'value': 'Consumer price...   \n",
      "\n",
      "                                             country countryiso3code  date  \\\n",
      "0  {'id': 'ZH', 'value': 'Africa Eastern and Sout...             AFE  2023   \n",
      "1  {'id': 'ZH', 'value': 'Africa Eastern and Sout...             AFE  2022   \n",
      "2  {'id': 'ZH', 'value': 'Africa Eastern and Sout...             AFE  2021   \n",
      "3  {'id': 'ZH', 'value': 'Africa Eastern and Sout...             AFE  2020   \n",
      "4  {'id': 'ZH', 'value': 'Africa Eastern and Sout...             AFE  2019   \n",
      "\n",
      "   value unit obs_status  decimal  \n",
      "0    NaN                        1  \n",
      "1    NaN                        1  \n",
      "2    NaN                        1  \n",
      "3    NaN                        1  \n",
      "4    NaN                        1  \n",
      "Total number of rows: 17024\n",
      "Index(['indicator', 'country', 'countryiso3code', 'date', 'value', 'unit',\n",
      "       'obs_status', 'decimal'],\n",
      "      dtype='object')\n"
     ]
    }
   ],
   "source": [
    "\n",
    "# URL for the World Bank CPI data\n",
    "base_url = \"http://api.worldbank.org/v2/country/all/indicator/FP.CPI.TOTL?format=json&per_page=1000\"\n",
    "\n",
    "def get_world_bank_data(url):\n",
    "    response = requests.get(url)\n",
    "    if response.status_code == 200:\n",
    "        return response.json()\n",
    "    else:\n",
    "        raise Exception(\"Error fetching data from World Bank API\")\n",
    "\n",
    "# Initialize an empty list to store data\n",
    "all_data = []\n",
    "\n",
    "# Get the first page of data to find out how many pages there are\n",
    "initial_response = get_world_bank_data(base_url + \"&page=1\")\n",
    "all_data.extend(initial_response[1])\n",
    "\n",
    "# Check the total number of pages\n",
    "total_pages = initial_response[0]['pages']\n",
    "\n",
    "# Iterate through all pages to get the data\n",
    "for page in range(2, total_pages + 1):\n",
    "    url = f\"{base_url}&page={page}\"\n",
    "    response = get_world_bank_data(url)\n",
    "    all_data.extend(response[1])\n",
    "\n",
    "# Convert the list of data into a DataFrame\n",
    "df = pd.DataFrame(all_data)\n",
    "\n",
    "# Display the first few rows of the DataFrame\n",
    "print(df.head())\n",
    "\n",
    "# Check the total number of rows\n",
    "print(f\"Total number of rows: {len(df)}\")\n",
    "\n",
    "# Display the DataFrame columns\n",
    "print(df.columns)"
   ]
  },
  {
   "cell_type": "code",
   "execution_count": 44,
   "id": "f1b078bc-a66d-4d1b-963c-676e0afd913b",
   "metadata": {},
   "outputs": [
    {
     "name": "stdout",
     "output_type": "stream",
     "text": [
      "                                           indicator  \\\n",
      "0  {'id': 'FP.CPI.TOTL', 'value': 'Consumer price...   \n",
      "1  {'id': 'FP.CPI.TOTL', 'value': 'Consumer price...   \n",
      "2  {'id': 'FP.CPI.TOTL', 'value': 'Consumer price...   \n",
      "3  {'id': 'FP.CPI.TOTL', 'value': 'Consumer price...   \n",
      "4  {'id': 'FP.CPI.TOTL', 'value': 'Consumer price...   \n",
      "\n",
      "                                             country countryiso3code  date  \\\n",
      "0  {'id': 'ZH', 'value': 'Africa Eastern and Sout...             AFE  2023   \n",
      "1  {'id': 'ZH', 'value': 'Africa Eastern and Sout...             AFE  2022   \n",
      "2  {'id': 'ZH', 'value': 'Africa Eastern and Sout...             AFE  2021   \n",
      "3  {'id': 'ZH', 'value': 'Africa Eastern and Sout...             AFE  2020   \n",
      "4  {'id': 'ZH', 'value': 'Africa Eastern and Sout...             AFE  2019   \n",
      "\n",
      "   value unit obs_status  decimal  \n",
      "0    NaN                        1  \n",
      "1    NaN                        1  \n",
      "2    NaN                        1  \n",
      "3    NaN                        1  \n",
      "4    NaN                        1  \n",
      "Total number of rows in the last 5 years: 1330\n",
      "Index(['indicator', 'country', 'countryiso3code', 'date', 'value', 'unit',\n",
      "       'obs_status', 'decimal'],\n",
      "      dtype='object')\n"
     ]
    }
   ],
   "source": [
    "current_year = datetime.now().year\n",
    "\n",
    "# Filter the data for the last 5 years\n",
    "last_5_years = list(range(current_year - 5, current_year + 1))\n",
    "\n",
    "# Convert the year column to numeric and filter\n",
    "df['date'] = pd.to_numeric(df['date'], errors='coerce')\n",
    "filtered_df = df[df['date'].isin(last_5_years)]\n",
    "\n",
    "# Display the filtered DataFrame\n",
    "print(filtered_df.head())\n",
    "\n",
    "# Check the total number of rows in the filtered DataFrame\n",
    "print(f\"Total number of rows in the last 5 years: {len(filtered_df)}\")\n",
    "\n",
    "# Display the DataFrame columns\n",
    "print(filtered_df.columns)"
   ]
  },
  {
   "cell_type": "code",
   "execution_count": 57,
   "id": "269b6b0e-d9f1-42da-885b-fffec5d934e4",
   "metadata": {},
   "outputs": [
    {
     "data": {
      "text/plain": [
       "country\n",
       "{'id': 'ZH', 'value': 'Africa Eastern and Southern'}    64\n",
       "{'id': 'MA', 'value': 'Morocco'}                        64\n",
       "{'id': 'MW', 'value': 'Malawi'}                         64\n",
       "{'id': 'MY', 'value': 'Malaysia'}                       64\n",
       "{'id': 'MV', 'value': 'Maldives'}                       64\n",
       "                                                        ..\n",
       "{'id': 'CG', 'value': 'Congo, Rep.'}                    64\n",
       "{'id': 'CR', 'value': 'Costa Rica'}                     64\n",
       "{'id': 'CI', 'value': 'Cote d'Ivoire'}                  64\n",
       "{'id': 'HR', 'value': 'Croatia'}                        64\n",
       "{'id': 'ZW', 'value': 'Zimbabwe'}                       64\n",
       "Name: count, Length: 266, dtype: int64"
      ]
     },
     "execution_count": 57,
     "metadata": {},
     "output_type": "execute_result"
    }
   ],
   "source": [
    "df.country.value_counts()"
   ]
  },
  {
   "cell_type": "code",
   "execution_count": 45,
   "id": "d1fcc125-acae-4ed1-ad59-1a46d91e7d05",
   "metadata": {},
   "outputs": [
    {
     "name": "stdout",
     "output_type": "stream",
     "text": [
      "                                             country  value  date\n",
      "0  {'id': 'ZH', 'value': 'Africa Eastern and Sout...    NaN  2023\n",
      "1  {'id': 'ZH', 'value': 'Africa Eastern and Sout...    NaN  2022\n",
      "2  {'id': 'ZH', 'value': 'Africa Eastern and Sout...    NaN  2021\n",
      "3  {'id': 'ZH', 'value': 'Africa Eastern and Sout...    NaN  2020\n",
      "4  {'id': 'ZH', 'value': 'Africa Eastern and Sout...    NaN  2019\n"
     ]
    }
   ],
   "source": [
    "df['date'] = pd.to_numeric(df['date'], errors='coerce')\n",
    "filtered_df = df[df['date'].isin(last_5_years)]\n",
    "\n",
    "# Select the relevant columns: country, value, and date\n",
    "filtered_df = filtered_df[['country', 'value', 'date']]\n",
    "\n",
    "# Display the filtered DataFrame\n",
    "print(filtered_df.head())"
   ]
  },
  {
   "cell_type": "code",
   "execution_count": 55,
   "id": "70a5454f-7ddb-4608-b624-fefdba88fe8c",
   "metadata": {},
   "outputs": [
    {
     "data": {
      "text/plain": [
       "country\n",
       "{'id': 'ZH', 'value': 'Africa Eastern and Southern'}    64\n",
       "{'id': 'MA', 'value': 'Morocco'}                        64\n",
       "{'id': 'MW', 'value': 'Malawi'}                         64\n",
       "{'id': 'MY', 'value': 'Malaysia'}                       64\n",
       "{'id': 'MV', 'value': 'Maldives'}                       64\n",
       "                                                        ..\n",
       "{'id': 'CG', 'value': 'Congo, Rep.'}                    64\n",
       "{'id': 'CR', 'value': 'Costa Rica'}                     64\n",
       "{'id': 'CI', 'value': 'Cote d'Ivoire'}                  64\n",
       "{'id': 'HR', 'value': 'Croatia'}                        64\n",
       "{'id': 'ZW', 'value': 'Zimbabwe'}                       64\n",
       "Name: count, Length: 266, dtype: int64"
      ]
     },
     "execution_count": 55,
     "metadata": {},
     "output_type": "execute_result"
    }
   ],
   "source": [
    "df.country.value_counts()"
   ]
  },
  {
   "cell_type": "code",
   "execution_count": 58,
   "id": "8bfd18f7-7545-424f-8a9e-2adbcfaa3714",
   "metadata": {},
   "outputs": [
    {
     "name": "stdout",
     "output_type": "stream",
     "text": [
      "                                              indicator  \\\n",
      "8832  {'id': 'FP.CPI.TOTL', 'value': 'Consumer price...   \n",
      "8833  {'id': 'FP.CPI.TOTL', 'value': 'Consumer price...   \n",
      "8834  {'id': 'FP.CPI.TOTL', 'value': 'Consumer price...   \n",
      "8835  {'id': 'FP.CPI.TOTL', 'value': 'Consumer price...   \n",
      "8836  {'id': 'FP.CPI.TOTL', 'value': 'Consumer price...   \n",
      "...                                                 ...   \n",
      "8891  {'id': 'FP.CPI.TOTL', 'value': 'Consumer price...   \n",
      "8892  {'id': 'FP.CPI.TOTL', 'value': 'Consumer price...   \n",
      "8893  {'id': 'FP.CPI.TOTL', 'value': 'Consumer price...   \n",
      "8894  {'id': 'FP.CPI.TOTL', 'value': 'Consumer price...   \n",
      "8895  {'id': 'FP.CPI.TOTL', 'value': 'Consumer price...   \n",
      "\n",
      "                             country countryiso3code  date       value unit  \\\n",
      "8832  {'id': 'IN', 'value': 'India'}             IND  2023  216.862025        \n",
      "8833  {'id': 'IN', 'value': 'India'}             IND  2022  205.266241        \n",
      "8834  {'id': 'IN', 'value': 'India'}             IND  2021  192.378725        \n",
      "8835  {'id': 'IN', 'value': 'India'}             IND  2020  182.988823        \n",
      "8836  {'id': 'IN', 'value': 'India'}             IND  2019  171.621576        \n",
      "...                              ...             ...   ...         ...  ...   \n",
      "8891  {'id': 'IN', 'value': 'India'}             IND  1964    3.108394        \n",
      "8892  {'id': 'IN', 'value': 'India'}             IND  1963    2.742170        \n",
      "8893  {'id': 'IN', 'value': 'India'}             IND  1962    2.663693        \n",
      "8894  {'id': 'IN', 'value': 'India'}             IND  1961    2.570333        \n",
      "8895  {'id': 'IN', 'value': 'India'}             IND  1960    2.527487        \n",
      "\n",
      "     obs_status  decimal country_name  \n",
      "8832                   1        India  \n",
      "8833                   1        India  \n",
      "8834                   1        India  \n",
      "8835                   1        India  \n",
      "8836                   1        India  \n",
      "...         ...      ...          ...  \n",
      "8891                   1        India  \n",
      "8892                   1        India  \n",
      "8893                   1        India  \n",
      "8894                   1        India  \n",
      "8895                   1        India  \n",
      "\n",
      "[64 rows x 9 columns]\n"
     ]
    }
   ],
   "source": [
    "india_inflation = df[df['country_name'] == 'India']\n",
    "\n",
    "# Display the inflation data for India\n",
    "print(india_inflation)"
   ]
  },
  {
   "cell_type": "code",
   "execution_count": 59,
   "id": "74ec97f1-2a76-42bd-899a-d5d5dfe3cd73",
   "metadata": {},
   "outputs": [
    {
     "name": "stdout",
     "output_type": "stream",
     "text": [
      "                                              indicator  \\\n",
      "8832  {'id': 'FP.CPI.TOTL', 'value': 'Consumer price...   \n",
      "8833  {'id': 'FP.CPI.TOTL', 'value': 'Consumer price...   \n",
      "8834  {'id': 'FP.CPI.TOTL', 'value': 'Consumer price...   \n",
      "8835  {'id': 'FP.CPI.TOTL', 'value': 'Consumer price...   \n",
      "8836  {'id': 'FP.CPI.TOTL', 'value': 'Consumer price...   \n",
      "\n",
      "                             country countryiso3code  date       value unit  \\\n",
      "8832  {'id': 'IN', 'value': 'India'}             IND  2023  216.862025        \n",
      "8833  {'id': 'IN', 'value': 'India'}             IND  2022  205.266241        \n",
      "8834  {'id': 'IN', 'value': 'India'}             IND  2021  192.378725        \n",
      "8835  {'id': 'IN', 'value': 'India'}             IND  2020  182.988823        \n",
      "8836  {'id': 'IN', 'value': 'India'}             IND  2019  171.621576        \n",
      "\n",
      "     obs_status  decimal country_name  \n",
      "8832                   1        India  \n",
      "8833                   1        India  \n",
      "8834                   1        India  \n",
      "8835                   1        India  \n",
      "8836                   1        India  \n"
     ]
    }
   ],
   "source": [
    "india_inflation = df[df['country_name'] == 'India']\n",
    "\n",
    "# Sort the DataFrame by date in descending order\n",
    "india_inflation_sorted = india_inflation.sort_values(by='date', ascending=False)\n",
    "\n",
    "# Select the top 5 rows to get data for the last 5 years\n",
    "india_inflation_last_5_years = india_inflation_sorted.head(5)\n",
    "\n",
    "# Display the inflation data for India over the last 5 years\n",
    "print(india_inflation_last_5_years)"
   ]
  },
  {
   "cell_type": "code",
   "execution_count": null,
   "id": "82d0fc14-1604-405f-b7c8-84372d94d52b",
   "metadata": {},
   "outputs": [],
   "source": []
  }
 ],
 "metadata": {
  "kernelspec": {
   "display_name": "Python 3 (ipykernel)",
   "language": "python",
   "name": "python3"
  },
  "language_info": {
   "codemirror_mode": {
    "name": "ipython",
    "version": 3
   },
   "file_extension": ".py",
   "mimetype": "text/x-python",
   "name": "python",
   "nbconvert_exporter": "python",
   "pygments_lexer": "ipython3",
   "version": "3.11.7"
  }
 },
 "nbformat": 4,
 "nbformat_minor": 5
}
